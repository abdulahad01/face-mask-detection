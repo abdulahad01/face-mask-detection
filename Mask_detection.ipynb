{
 "cells": [
  {
   "cell_type": "code",
   "execution_count": 1,
   "metadata": {
    "colab": {
     "base_uri": "https://localhost:8080/",
     "height": 34
    },
    "colab_type": "code",
    "executionInfo": {
     "elapsed": 4865,
     "status": "ok",
     "timestamp": 1595229368057,
     "user": {
      "displayName": "Abdul Ahad",
      "photoUrl": "",
      "userId": "11614551552925403944"
     },
     "user_tz": -330
    },
    "id": "QxBMFlGhhob1",
    "outputId": "5d30a158-bda4-4a84-895f-109de4ef9f73"
   },
   "outputs": [],
   "source": [
    "# importing libraries\n",
    "import os\n",
    "import tensorflow as tf\n",
    "import matplotlib.pyplot as plt\n",
    "import cv2\n",
    "import numpy as np\n",
    "import h5py\n",
    "from zipfile import ZipFile\n",
    "\n",
    "\n",
    "#checkpoint_dir = 'C://Users//TOSHIBA//Downloads//checkpoint_final-20200722T030914Z-001.zip' # directory of model or checkpoint\n",
    "#print(os.listdir(checkpoint_dir))"
   ]
  },
  {
   "cell_type": "code",
   "execution_count": 2,
   "metadata": {},
   "outputs": [
    {
     "data": {
      "text/plain": [
       "'4.3.0'"
      ]
     },
     "execution_count": 2,
     "metadata": {},
     "output_type": "execute_result"
    }
   ],
   "source": [
    "import h5py\n",
    "cv2.__version__"
   ]
  },
  {
   "cell_type": "code",
   "execution_count": 3,
   "metadata": {
    "colab": {},
    "colab_type": "code",
    "id": "H-fXS_Q5EL9h"
   },
   "outputs": [],
   "source": [
    "model =tf.keras.models.load_model('C://Users//TOSHIBA//Downloads//mask_model.h5') #loading the model"
   ]
  },
  {
   "cell_type": "code",
   "execution_count": 4,
   "metadata": {},
   "outputs": [],
   "source": [
    "labels ={0 :' mask', 1 :'No Mask'}\n",
    "color = {1 : (0,0,255),0 :(0,255,0)}"
   ]
  },
  {
   "cell_type": "markdown",
   "metadata": {},
   "source": [
    "# Testing on Images"
   ]
  },
  {
   "cell_type": "code",
   "execution_count": 42,
   "metadata": {},
   "outputs": [
    {
     "name": "stdout",
     "output_type": "stream",
     "text": [
      "C://Users//TOSHIBA//Downloads//mask_images//mask.jpg\n",
      "C://Users//TOSHIBA//Downloads//mask_images//mask_multi.jpg\n",
      "C://Users//TOSHIBA//Downloads//mask_images//wiyhout.jpg\n"
     ]
    }
   ],
   "source": [
    "import os\n",
    "dir = 'C://Users//TOSHIBA//Downloads//mask_images//'\n",
    "for images in os.listdir(dir) :\n",
    "    print(dir+images)\n",
    "    img = cv2.imread(dir+images)\n",
    "    face_clsfr=cv2.CascadeClassifier('C://Users//TOSHIBA//Downloads//haarcascade_frontalface_default.xml')\n",
    "    gray=cv2.cvtColor(img,cv2.COLOR_BGR2GRAY)\n",
    "    faces=face_clsfr.detectMultiScale(gray,1.3,5)\n",
    "    for x,y,w,h in faces :\n",
    "                face_img=img[y:y+h,x:x+w]\n",
    "                resized=cv2.resize(face_img,(224,224))\n",
    "\n",
    "                normalized=resized/255.0\n",
    "                reshaped=np.reshape(normalized,(1,224,224,3))\n",
    "\n",
    "                result=model.predict(reshaped)\n",
    "                label=np.argmax(result,axis=1)[0]\n",
    "\n",
    "                cv2.rectangle(img,(x,y),(x+w,y+h),color[label],2)\n",
    "                cv2.rectangle(img,(x,y-40),(x+w,y),color[label],-1)\n",
    "                cv2.putText(img, labels[label], (x, y-10),cv2.FONT_HERSHEY_SIMPLEX,0.8,(255,255,255),2)\n",
    "    cv2.imshow('output',img)\n",
    "    cv2.waitKey(0)\n",
    "    cv2.destroyAllWindows()\n",
    "\n",
    "\n"
   ]
  },
  {
   "cell_type": "markdown",
   "metadata": {
    "colab_type": "text",
    "id": "em8lzZudTtut"
   },
   "source": [
    "# Live video code"
   ]
  },
  {
   "cell_type": "code",
   "execution_count": 19,
   "metadata": {
    "colab": {},
    "colab_type": "code",
    "id": "gRAa4ifZGjY7"
   },
   "outputs": [],
   "source": [
    "# Code for live video streaming\n",
    "\n",
    "#def callback(x) :\n",
    "#    pass\n",
    "\n",
    "#cv2.namedWindow('Control Window')\n",
    "#cv2.createTrackbar('Threshold','Control Window', 70, 200, callback)\n",
    "\n",
    "face_clsfr=cv2.CascadeClassifier('C://Users//TOSHIBA//Downloads//haarcascade_frontalface_default.xml')\n",
    "#mouth_classifier =cv2.CascadeClassifier('C://Users//TOSHIBA//Downloads//Mouth.xml')\n",
    "#Avoid mouth classifier\n",
    "\n",
    "source=cv2.VideoCapture('C://Users//TOSHIBA//Downloads//mask.mp4') #directory to video\n",
    "#source = cv2.VideoCapture(0) #webcam feed\n",
    "\n",
    "#threshold = cv2.getTrackbarPos('Threshold', 'Control Window')\n"
   ]
  },
  {
   "cell_type": "code",
   "execution_count": 20,
   "metadata": {},
   "outputs": [],
   "source": [
    "while(source.isOpened()):\n",
    "\n",
    "    ret,img=source.read()\n",
    "    gray=cv2.cvtColor(img,cv2.COLOR_BGR2GRAY)\n",
    "    \n",
    "\n",
    "    thres, b_w =  cv2.threshold(gray, 80, 255, cv2.THRESH_BINARY)\n",
    "    faces=face_clsfr.detectMultiScale(gray,1.3,5) \n",
    "    faces_b_w=face_clsfr.detectMultiScale(b_w,1.5,5)\n",
    "    \n",
    "    if len(faces) ==0 and len(faces_b_w) == 0 :\n",
    "        cv2.putText(img,'No face found', (30,30),cv2.FONT_HERSHEY_SIMPLEX,0.8,(255,255,255),2)\n",
    "    elif len(faces) == 0 and len(faces_b_w) ==1 :\n",
    "        label = 0\n",
    "        cv2.putText(img,labels[label], (30, 30),cv2.FONT_HERSHEY_SIMPLEX,0.8,(255,255,255),2)\n",
    "    else :\n",
    "        for (x,y,w,h) in faces:\n",
    "            face_img=img[y:y+h,x:x+w]\n",
    "            resized=cv2.resize(face_img,(224,224))\n",
    "        \n",
    "            normalized=resized/255.0\n",
    "            reshaped=np.reshape(normalized,(1,224,224,3))\n",
    "            \n",
    "            \n",
    "            result=model.predict(reshaped)\n",
    "            label=np.argmax(result,axis=1)[0]\n",
    "            probs = round((np.max(result)*100),2)\n",
    "      \n",
    "            cv2.rectangle(img,(x,y),(x+w,y+h),color[label],2)\n",
    "            cv2.rectangle(img,(x,y-40),(x+w,y),color[label],-1)\n",
    "            cv2.putText(img, labels[label]+str(probs), (x, y-10),cv2.FONT_HERSHEY_SIMPLEX,0.8,(255,255,255),2)\n",
    "        \n",
    "        \n",
    "    cv2.imshow('LIVE',img)\n",
    "    cv2.imshow('face',face_img)\n",
    "    \n",
    "    \n",
    "    key=cv2.waitKey(1)\n",
    "    \n",
    "    if(key==27):\n",
    "        break\n",
    "cv2.destroyAllWindows()\n",
    "source.release()\n",
    "\n"
   ]
  },
  {
   "cell_type": "code",
   "execution_count": null,
   "metadata": {},
   "outputs": [],
   "source": []
  },
  {
   "cell_type": "code",
   "execution_count": null,
   "metadata": {},
   "outputs": [],
   "source": []
  }
 ],
 "metadata": {
  "colab": {
   "authorship_tag": "ABX9TyPKThy/fFSpD1gezQ2mY1Oq",
   "collapsed_sections": [
    "wbyng1OmGHQk"
   ],
   "name": "Mask_detection.ipynb",
   "provenance": []
  },
  "kernelspec": {
   "display_name": "Python 3",
   "language": "python",
   "name": "python3"
  },
  "language_info": {
   "codemirror_mode": {
    "name": "ipython",
    "version": 3
   },
   "file_extension": ".py",
   "mimetype": "text/x-python",
   "name": "python",
   "nbconvert_exporter": "python",
   "pygments_lexer": "ipython3",
   "version": "3.7.6"
  }
 },
 "nbformat": 4,
 "nbformat_minor": 1
}
